{
 "cells": [
  {
   "cell_type": "markdown",
   "metadata": {},
   "source": [
    "# Ecommerce Purchases Exercise\n",
    "\n",
    "https://gitee.com/gzjzg/data-preparation-crash-course/blob/master/14DAYPandasChallenge/DATA/Ecommerce%20Purchases"
   ]
  },
  {
   "cell_type": "code",
   "execution_count": null,
   "metadata": {},
   "outputs": [],
   "source": []
  },
  {
   "cell_type": "markdown",
   "metadata": {},
   "source": [
    "</h1></center><center><h1 style=\"font-size:120%; font-family:cursive; background:pink; color:black; border-radius:10px 10px; padding:10px;\"> Step 1. Check the head of the DataFrame.\n",
    "</h1></center>"
   ]
  },
  {
   "cell_type": "code",
   "execution_count": null,
   "metadata": {},
   "outputs": [],
   "source": []
  },
  {
   "cell_type": "markdown",
   "metadata": {},
   "source": [
    "</h1></center><center><h1 style=\"font-size:120%; font-family:cursive; background:pink; color:black; border-radius:10px 10px; padding:10px;\"> Step 2. How many rows and columns are there?\n",
    "</h1></center>"
   ]
  },
  {
   "cell_type": "code",
   "execution_count": null,
   "metadata": {},
   "outputs": [],
   "source": []
  },
  {
   "cell_type": "markdown",
   "metadata": {},
   "source": [
    "</h1></center><center><h1 style=\"font-size:120%; font-family:cursive; background:pink; color:black; border-radius:10px 10px; padding:10px;\"> Step 3. What is the average Purchase Price?\n",
    "</h1></center>"
   ]
  },
  {
   "cell_type": "code",
   "execution_count": null,
   "metadata": {},
   "outputs": [],
   "source": []
  },
  {
   "cell_type": "markdown",
   "metadata": {},
   "source": [
    "</h1></center><center><h1 style=\"font-size:120%; font-family:cursive; background:pink; color:black; border-radius:10px 10px; padding:10px;\"> Step 4. What were the highest and lowest purchase prices?\n",
    "</h1></center>"
   ]
  },
  {
   "cell_type": "code",
   "execution_count": null,
   "metadata": {},
   "outputs": [],
   "source": []
  },
  {
   "cell_type": "markdown",
   "metadata": {},
   "source": [
    "</h1></center><center><h1 style=\"font-size:120%; font-family:cursive; background:pink; color:black; border-radius:10px 10px; padding:10px;\"> Step 5. How many people have English 'en' as their Language of choice on the website?\n",
    "</h1></center>"
   ]
  },
  {
   "cell_type": "code",
   "execution_count": null,
   "metadata": {},
   "outputs": [],
   "source": []
  },
  {
   "cell_type": "markdown",
   "metadata": {},
   "source": [
    "</h1></center><center><h1 style=\"font-size:120%; font-family:cursive; background:pink; color:black; border-radius:10px 10px; padding:10px;\"> Step 6. How many people have the job title of \"Lawyer\" ?\n",
    "</h1></center>"
   ]
  },
  {
   "cell_type": "code",
   "execution_count": null,
   "metadata": {},
   "outputs": [],
   "source": []
  },
  {
   "cell_type": "markdown",
   "metadata": {},
   "source": [
    "</h1></center><center><h1 style=\"font-size:120%; font-family:cursive; background:pink; color:black; border-radius:10px 10px; padding:10px;\"> Step 7. How many people made the purchase during the AM and how many people made the purchase during PM ?\n",
    "</h1></center>"
   ]
  },
  {
   "cell_type": "code",
   "execution_count": null,
   "metadata": {},
   "outputs": [],
   "source": []
  },
  {
   "cell_type": "markdown",
   "metadata": {},
   "source": [
    "</h1></center><center><h1 style=\"font-size:120%; font-family:cursive; background:pink; color:black; border-radius:10px 10px; padding:10px;\"> Step 8. What are the 5 most common Job Titles?\n",
    "</h1></center>"
   ]
  },
  {
   "cell_type": "code",
   "execution_count": null,
   "metadata": {},
   "outputs": [],
   "source": []
  },
  {
   "cell_type": "markdown",
   "metadata": {},
   "source": [
    "</h1></center><center><h1 style=\"font-size:120%; font-family:cursive; background:pink; color:black; border-radius:10px 10px; padding:10px;\"> Step 9. Someone made a purchase that came from Lot: \"90 WT\" , what was the Purchase Price for this transaction?\n",
    "</h1></center>"
   ]
  },
  {
   "cell_type": "code",
   "execution_count": null,
   "metadata": {},
   "outputs": [],
   "source": []
  },
  {
   "cell_type": "markdown",
   "metadata": {},
   "source": [
    "</h1></center><center><h1 style=\"font-size:120%; font-family:cursive; background:pink; color:black; border-radius:10px 10px; padding:10px;\"> Step 10. What is the email of the person with the following Credit Card Number: 4926535242672853\n",
    "</h1></center>"
   ]
  },
  {
   "cell_type": "code",
   "execution_count": null,
   "metadata": {},
   "outputs": [],
   "source": []
  },
  {
   "cell_type": "markdown",
   "metadata": {},
   "source": [
    "</h1></center><center><h1 style=\"font-size:120%; font-family:cursive; background:pink; color:black; border-radius:10px 10px; padding:10px;\"> Step 11. How many people have American Express as their Credit Card Provider *and* made a purchase above $95 ?\n",
    "</h1></center>"
   ]
  },
  {
   "cell_type": "code",
   "execution_count": null,
   "metadata": {},
   "outputs": [],
   "source": []
  },
  {
   "cell_type": "markdown",
   "metadata": {},
   "source": [
    "</h1></center><center><h1 style=\"font-size:120%; font-family:cursive; background:pink; color:black; border-radius:10px 10px; padding:10px;\"> Step 12. How many people have a credit card that expires in 2025?\n",
    "</h1></center>"
   ]
  },
  {
   "cell_type": "code",
   "execution_count": null,
   "metadata": {},
   "outputs": [],
   "source": []
  },
  {
   "cell_type": "markdown",
   "metadata": {},
   "source": [
    "</h1></center><center><h1 style=\"font-size:120%; font-family:cursive; background:pink; color:black; border-radius:10px 10px; padding:10px;\"> Step 13. What are the top 5 most popular email providers/hosts (e.g. gmail.com, yahoo.com, etc...)\n",
    "</h1></center>"
   ]
  },
  {
   "cell_type": "code",
   "execution_count": null,
   "metadata": {},
   "outputs": [],
   "source": []
  },
  {
   "cell_type": "markdown",
   "metadata": {},
   "source": [
    "THE END"
   ]
  }
 ],
 "metadata": {
  "kernelspec": {
   "display_name": "Python 3 (ipykernel)",
   "language": "python",
   "name": "python3"
  },
  "language_info": {
   "codemirror_mode": {
    "name": "ipython",
    "version": 3
   },
   "file_extension": ".py",
   "mimetype": "text/x-python",
   "name": "python",
   "nbconvert_exporter": "python",
   "pygments_lexer": "ipython3",
   "version": "3.9.12"
  }
 },
 "nbformat": 4,
 "nbformat_minor": 1
}
