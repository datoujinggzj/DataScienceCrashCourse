{
 "cells": [
  {
   "cell_type": "markdown",
   "id": "4365fa18",
   "metadata": {
    "cell_id": 28
   },
   "source": [
    "# Python数据分析练习"
   ]
  },
  {
   "cell_type": "markdown",
   "id": "fd29ba6b",
   "metadata": {
    "cell_id": 30
   },
   "source": [
    "## 背景\n",
    "\n",
    "22年求职很难，裁员潮席卷海外科技圈，国内的大厂也在‘响应’，所以，就想看看Boss直聘上的上海地区，关于数据科学的岗位有哪些？能否有些值得研究的地方，供我们分析得出一些帮助我们求职的结论（具体是什么，我也不清楚，走一步看一步）"
   ]
  },
  {
   "cell_type": "markdown",
   "id": "83400d60",
   "metadata": {
    "cell_id": 32
   },
   "source": [
    "## 获取数据\n",
    "\n",
    "[网站链接](https://www.zhipin.com/web/geek/job?query=%E6%95%B0%E6%8D%AE%E5%88%86%E6%9E%90&city=101020100&experience=102,101,108&degree=203&scale=303,304,305,306&salary=405)\n",
    "\n",
    "（1）你需要想办法把这里的数据搞下来，你可以用任何的方法\n",
    "\n",
    "需要以下字段：\n",
    "- 岗位名称：position\n",
    "- 公司名称：company\n",
    "- 薪水：salary\n",
    "- 地理位置：location\n",
    "- 技能细节：detail\n",
    "- 公司详情：info\n",
    "- 公司标签：comp_tag\n",
    "- 经验：experience\n",
    "\n",
    "如下图：\n",
    "\n",
    "![](https://github.com/datoujinggzj/WhaleDataScienceProject/blob/master/pic/boss_pic?raw=true)"
   ]
  },
  {
   "cell_type": "code",
   "execution_count": 8,
   "id": "22344a38",
   "metadata": {
    "cell_id": 1
   },
   "outputs": [],
   "source": [
    "import pandas as pd"
   ]
  },
  {
   "cell_type": "markdown",
   "id": "945b1c8c",
   "metadata": {
    "cell_id": 36
   },
   "source": [
    "## 清洗数据\n",
    "\n",
    "### （1）如果一个公司有多个tag，合并成一个列表\n",
    "\n",
    "![](https://github.com/datoujinggzj/WhaleDataScienceProject/blob/master/pic/boss2.png?raw=true)"
   ]
  },
  {
   "cell_type": "markdown",
   "id": "f26dbe64",
   "metadata": {
    "cell_id": 40
   },
   "source": [
    "### （2）如果一个公司涉及多个skill，拆成列表的形式"
   ]
  },
  {
   "cell_type": "markdown",
   "id": "dbb5d948",
   "metadata": {
    "cell_id": 43
   },
   "source": [
    "### （3）找到所有实习岗位"
   ]
  },
  {
   "cell_type": "code",
   "execution_count": 15,
   "id": "ff99e91b",
   "metadata": {
    "cell_id": 24
   },
   "outputs": [
    {
     "data": {
      "text/html": [
       "<div>\n",
       "<style scoped>\n",
       "    .dataframe tbody tr th:only-of-type {\n",
       "        vertical-align: middle;\n",
       "    }\n",
       "\n",
       "    .dataframe tbody tr th {\n",
       "        vertical-align: top;\n",
       "    }\n",
       "\n",
       "    .dataframe thead th {\n",
       "        text-align: right;\n",
       "    }\n",
       "</style>\n",
       "<table border=\"1\" class=\"dataframe\">\n",
       "  <thead>\n",
       "    <tr style=\"text-align: right;\">\n",
       "      <th></th>\n",
       "      <th>position</th>\n",
       "      <th>company</th>\n",
       "      <th>loc</th>\n",
       "      <th>salary</th>\n",
       "      <th>detail</th>\n",
       "      <th>info</th>\n",
       "      <th>experience</th>\n",
       "      <th>comp_tag</th>\n",
       "    </tr>\n",
       "  </thead>\n",
       "  <tbody>\n",
       "    <tr>\n",
       "      <th>3</th>\n",
       "      <td>2023校招-CRM 数据分析实习生</td>\n",
       "      <td>特斯拉 Tesla</td>\n",
       "      <td>上海·浦东新区·世博</td>\n",
       "      <td>10-15K</td>\n",
       "      <td>[SQL]</td>\n",
       "      <td>免费班车，年终奖，餐补，五险一金，加班补助，带薪年假，补充医疗保险，定期体检，通讯补贴，住房...</td>\n",
       "      <td>在校/应届</td>\n",
       "      <td>[汽车生产, 已上市, 10000人以上]</td>\n",
       "    </tr>\n",
       "    <tr>\n",
       "      <th>199</th>\n",
       "      <td>机器学习算法实习生</td>\n",
       "      <td>叠纸游戏</td>\n",
       "      <td>上海·杨浦区·东外滩</td>\n",
       "      <td>7-12K</td>\n",
       "      <td>[深度学习算法算法设计PythonC++数据分析]</td>\n",
       "      <td>年终奖，定期体检，节日福利，员工旅游，带薪年假，五险一金，补充医疗保险，零食下午茶，餐补，全勤奖</td>\n",
       "      <td>经验不限</td>\n",
       "      <td>[游戏, B轮, 1000-9999人]</td>\n",
       "    </tr>\n",
       "    <tr>\n",
       "      <th>214</th>\n",
       "      <td>电商数据分析实习生（可留用）</td>\n",
       "      <td>新略数智</td>\n",
       "      <td>上海·静安区·静安寺</td>\n",
       "      <td>8-12K·13薪</td>\n",
       "      <td>[数据分析数学, 统计学专业电商]</td>\n",
       "      <td>年终奖，节日福利，五险一金，零食下午茶，带薪年假，【红杉投资】，员工旅游，股票期权</td>\n",
       "      <td>在校/应届</td>\n",
       "      <td>[计算机软件, A轮, 100-499人]</td>\n",
       "    </tr>\n",
       "  </tbody>\n",
       "</table>\n",
       "</div>"
      ],
      "text/plain": [
       "               position    company         loc     salary  \\\n",
       "3    2023校招-CRM 数据分析实习生  特斯拉 Tesla  上海·浦东新区·世博     10-15K   \n",
       "199           机器学习算法实习生       叠纸游戏  上海·杨浦区·东外滩      7-12K   \n",
       "214      电商数据分析实习生（可留用）       新略数智  上海·静安区·静安寺  8-12K·13薪   \n",
       "\n",
       "                        detail  \\\n",
       "3                        [SQL]   \n",
       "199  [深度学习算法算法设计PythonC++数据分析]   \n",
       "214          [数据分析数学, 统计学专业电商]   \n",
       "\n",
       "                                                  info experience  \\\n",
       "3    免费班车，年终奖，餐补，五险一金，加班补助，带薪年假，补充医疗保险，定期体检，通讯补贴，住房...      在校/应届   \n",
       "199   年终奖，定期体检，节日福利，员工旅游，带薪年假，五险一金，补充医疗保险，零食下午茶，餐补，全勤奖       经验不限   \n",
       "214          年终奖，节日福利，五险一金，零食下午茶，带薪年假，【红杉投资】，员工旅游，股票期权      在校/应届   \n",
       "\n",
       "                  comp_tag  \n",
       "3    [汽车生产, 已上市, 10000人以上]  \n",
       "199   [游戏, B轮, 1000-9999人]  \n",
       "214  [计算机软件, A轮, 100-499人]  "
      ]
     },
     "execution_count": 15,
     "metadata": {},
     "output_type": "execute_result"
    }
   ],
   "source": []
  },
  {
   "cell_type": "markdown",
   "id": "bcb85b71",
   "metadata": {
    "cell_id": 46
   },
   "source": [
    "### （4）工资拆解为薪资区间和多少薪，如果没有用‘暂无’代替"
   ]
  },
  {
   "cell_type": "code",
   "execution_count": 28,
   "id": "97027f2b",
   "metadata": {
    "cell_id": 50
   },
   "outputs": [
    {
     "data": {
      "text/html": [
       "<div>\n",
       "<style scoped>\n",
       "    .dataframe tbody tr th:only-of-type {\n",
       "        vertical-align: middle;\n",
       "    }\n",
       "\n",
       "    .dataframe tbody tr th {\n",
       "        vertical-align: top;\n",
       "    }\n",
       "\n",
       "    .dataframe thead th {\n",
       "        text-align: right;\n",
       "    }\n",
       "</style>\n",
       "<table border=\"1\" class=\"dataframe\">\n",
       "  <thead>\n",
       "    <tr style=\"text-align: right;\">\n",
       "      <th></th>\n",
       "      <th>薪资区间</th>\n",
       "      <th>n薪</th>\n",
       "    </tr>\n",
       "  </thead>\n",
       "  <tbody>\n",
       "    <tr>\n",
       "      <th>0</th>\n",
       "      <td>16-20K</td>\n",
       "      <td>16薪</td>\n",
       "    </tr>\n",
       "    <tr>\n",
       "      <th>1</th>\n",
       "      <td>15-18K</td>\n",
       "      <td>13薪</td>\n",
       "    </tr>\n",
       "    <tr>\n",
       "      <th>2</th>\n",
       "      <td>15-20K</td>\n",
       "      <td>15薪</td>\n",
       "    </tr>\n",
       "    <tr>\n",
       "      <th>3</th>\n",
       "      <td>10-15K</td>\n",
       "      <td>暂无</td>\n",
       "    </tr>\n",
       "    <tr>\n",
       "      <th>4</th>\n",
       "      <td>12-20K</td>\n",
       "      <td>暂无</td>\n",
       "    </tr>\n",
       "    <tr>\n",
       "      <th>...</th>\n",
       "      <td>...</td>\n",
       "      <td>...</td>\n",
       "    </tr>\n",
       "    <tr>\n",
       "      <th>265</th>\n",
       "      <td>15-30K</td>\n",
       "      <td>13薪</td>\n",
       "    </tr>\n",
       "    <tr>\n",
       "      <th>266</th>\n",
       "      <td>15-30K</td>\n",
       "      <td>15薪</td>\n",
       "    </tr>\n",
       "    <tr>\n",
       "      <th>267</th>\n",
       "      <td>15-20K</td>\n",
       "      <td>暂无</td>\n",
       "    </tr>\n",
       "    <tr>\n",
       "      <th>268</th>\n",
       "      <td>8-13K</td>\n",
       "      <td>13薪</td>\n",
       "    </tr>\n",
       "    <tr>\n",
       "      <th>269</th>\n",
       "      <td>14-25K</td>\n",
       "      <td>13薪</td>\n",
       "    </tr>\n",
       "  </tbody>\n",
       "</table>\n",
       "<p>270 rows × 2 columns</p>\n",
       "</div>"
      ],
      "text/plain": [
       "       薪资区间   n薪\n",
       "0    16-20K  16薪\n",
       "1    15-18K  13薪\n",
       "2    15-20K  15薪\n",
       "3    10-15K   暂无\n",
       "4    12-20K   暂无\n",
       "..      ...  ...\n",
       "265  15-30K  13薪\n",
       "266  15-30K  15薪\n",
       "267  15-20K   暂无\n",
       "268   8-13K  13薪\n",
       "269  14-25K  13薪\n",
       "\n",
       "[270 rows x 2 columns]"
      ]
     },
     "execution_count": 28,
     "metadata": {},
     "output_type": "execute_result"
    }
   ],
   "source": [
    "'像这样'"
   ]
  },
  {
   "cell_type": "markdown",
   "id": "8b38d35d",
   "metadata": {
    "cell_id": 51
   },
   "source": [
    "### （5）薪资区间拆解为下限和上限，数据类型为整型"
   ]
  },
  {
   "cell_type": "code",
   "execution_count": 38,
   "id": "62909846",
   "metadata": {
    "cell_id": 23
   },
   "outputs": [],
   "source": []
  },
  {
   "cell_type": "markdown",
   "id": "6bdd4fa2",
   "metadata": {
    "cell_id": 56
   },
   "source": [
    "### （6）删掉salary这一列"
   ]
  },
  {
   "cell_type": "code",
   "execution_count": 41,
   "id": "d73c4824",
   "metadata": {
    "cell_id": 55
   },
   "outputs": [],
   "source": []
  },
  {
   "cell_type": "markdown",
   "id": "950caaa4",
   "metadata": {
    "cell_id": 60
   },
   "source": [
    "### （7）更改列名"
   ]
  },
  {
   "cell_type": "code",
   "execution_count": 94,
   "id": "b318c7bb",
   "metadata": {
    "cell_id": 63
   },
   "outputs": [
    {
     "data": {
      "text/plain": [
       "Index(['岗位', '公司', '位置', '技能', '详情', '经验', '标签', '区间', 'n薪', '下限', '上限'], dtype='object')"
      ]
     },
     "execution_count": 94,
     "metadata": {},
     "output_type": "execute_result"
    }
   ],
   "source": [
    "df1.columns # 更改后的如下"
   ]
  },
  {
   "cell_type": "markdown",
   "id": "43d27a4b",
   "metadata": {
    "cell_id": 69
   },
   "source": [
    "### （8）display数据框，满足下面要求\n",
    "\n",
    "- 最大列宽：1000\n",
    "- 隐藏列：技能、详情\n",
    "- 取前10行\n",
    "- 上限和下限后面都加个k\n",
    "- 隐藏index\n",
    "- 上下限的最小值高亮为 `#90ee90`\n",
    "- 上下限的最大值高亮为 `#ff8725`"
   ]
  },
  {
   "cell_type": "code",
   "execution_count": 93,
   "id": "a23ea68b",
   "metadata": {
    "cell_id": 59
   },
   "outputs": [
    {
     "data": {
      "text/html": [
       "<style  type=\"text/css\" >\n",
       "#T_098b9876_876d_11ed_b2ec_5254ac14a3c7row0_col9,#T_098b9876_876d_11ed_b2ec_5254ac14a3c7row8_col9,#T_098b9876_876d_11ed_b2ec_5254ac14a3c7row8_col10{\n",
       "            background-color:  #ff8725;\n",
       "        }#T_098b9876_876d_11ed_b2ec_5254ac14a3c7row3_col9,#T_098b9876_876d_11ed_b2ec_5254ac14a3c7row3_col10,#T_098b9876_876d_11ed_b2ec_5254ac14a3c7row6_col9,#T_098b9876_876d_11ed_b2ec_5254ac14a3c7row6_col10{\n",
       "            background-color:  #90ee90;\n",
       "        }</style><table id=\"T_098b9876_876d_11ed_b2ec_5254ac14a3c7\" ><thead>    <tr>        <th class=\"col_heading level0 col0\" >岗位</th>        <th class=\"col_heading level0 col1\" >公司</th>        <th class=\"col_heading level0 col2\" >位置</th>        <th class=\"col_heading level0 col5\" >经验</th>        <th class=\"col_heading level0 col6\" >标签</th>        <th class=\"col_heading level0 col7\" >区间</th>        <th class=\"col_heading level0 col8\" >n薪</th>        <th class=\"col_heading level0 col9\" >下限</th>        <th class=\"col_heading level0 col10\" >上限</th>    </tr></thead><tbody>\n",
       "                <tr>\n",
       "                                <td id=\"T_098b9876_876d_11ed_b2ec_5254ac14a3c7row0_col0\" class=\"data row0 col0\" >2022-校招-数据挖掘工程师</td>\n",
       "                        <td id=\"T_098b9876_876d_11ed_b2ec_5254ac14a3c7row0_col1\" class=\"data row0 col1\" >千寻位置</td>\n",
       "                        <td id=\"T_098b9876_876d_11ed_b2ec_5254ac14a3c7row0_col2\" class=\"data row0 col2\" >上海·宝山区·淞南</td>\n",
       "                                        <td id=\"T_098b9876_876d_11ed_b2ec_5254ac14a3c7row0_col5\" class=\"data row0 col5\" >在校/应届</td>\n",
       "                        <td id=\"T_098b9876_876d_11ed_b2ec_5254ac14a3c7row0_col6\" class=\"data row0 col6\" >['互联网', 'A轮', '1000-9999人']</td>\n",
       "                        <td id=\"T_098b9876_876d_11ed_b2ec_5254ac14a3c7row0_col7\" class=\"data row0 col7\" >16-20K</td>\n",
       "                        <td id=\"T_098b9876_876d_11ed_b2ec_5254ac14a3c7row0_col8\" class=\"data row0 col8\" >16薪</td>\n",
       "                        <td id=\"T_098b9876_876d_11ed_b2ec_5254ac14a3c7row0_col9\" class=\"data row0 col9\" >                  16k</td>\n",
       "                        <td id=\"T_098b9876_876d_11ed_b2ec_5254ac14a3c7row0_col10\" class=\"data row0 col10\" >                  20k</td>\n",
       "            </tr>\n",
       "            <tr>\n",
       "                                <td id=\"T_098b9876_876d_11ed_b2ec_5254ac14a3c7row1_col0\" class=\"data row1 col0\" >2023 信息技术与数据分析管培生(技术方向)</td>\n",
       "                        <td id=\"T_098b9876_876d_11ed_b2ec_5254ac14a3c7row1_col1\" class=\"data row1 col1\" >百威</td>\n",
       "                        <td id=\"T_098b9876_876d_11ed_b2ec_5254ac14a3c7row1_col2\" class=\"data row1 col2\" >上海·黄浦区·人民广场</td>\n",
       "                                        <td id=\"T_098b9876_876d_11ed_b2ec_5254ac14a3c7row1_col5\" class=\"data row1 col5\" >在校/应届</td>\n",
       "                        <td id=\"T_098b9876_876d_11ed_b2ec_5254ac14a3c7row1_col6\" class=\"data row1 col6\" >['食品/饮料/烟酒', '已上市', '10000人以上']</td>\n",
       "                        <td id=\"T_098b9876_876d_11ed_b2ec_5254ac14a3c7row1_col7\" class=\"data row1 col7\" >15-18K</td>\n",
       "                        <td id=\"T_098b9876_876d_11ed_b2ec_5254ac14a3c7row1_col8\" class=\"data row1 col8\" >13薪</td>\n",
       "                        <td id=\"T_098b9876_876d_11ed_b2ec_5254ac14a3c7row1_col9\" class=\"data row1 col9\" >                  15k</td>\n",
       "                        <td id=\"T_098b9876_876d_11ed_b2ec_5254ac14a3c7row1_col10\" class=\"data row1 col10\" >                  18k</td>\n",
       "            </tr>\n",
       "            <tr>\n",
       "                                <td id=\"T_098b9876_876d_11ed_b2ec_5254ac14a3c7row2_col0\" class=\"data row2 col0\" >2023届校招-商业分析师(新客业务方向)</td>\n",
       "                        <td id=\"T_098b9876_876d_11ed_b2ec_5254ac14a3c7row2_col1\" class=\"data row2 col1\" >信也科技</td>\n",
       "                        <td id=\"T_098b9876_876d_11ed_b2ec_5254ac14a3c7row2_col2\" class=\"data row2 col2\" >上海·浦东新区·张江</td>\n",
       "                                        <td id=\"T_098b9876_876d_11ed_b2ec_5254ac14a3c7row2_col5\" class=\"data row2 col5\" >在校/应届</td>\n",
       "                        <td id=\"T_098b9876_876d_11ed_b2ec_5254ac14a3c7row2_col6\" class=\"data row2 col6\" >['互联网', '已上市', '1000-9999人']</td>\n",
       "                        <td id=\"T_098b9876_876d_11ed_b2ec_5254ac14a3c7row2_col7\" class=\"data row2 col7\" >15-20K</td>\n",
       "                        <td id=\"T_098b9876_876d_11ed_b2ec_5254ac14a3c7row2_col8\" class=\"data row2 col8\" >15薪</td>\n",
       "                        <td id=\"T_098b9876_876d_11ed_b2ec_5254ac14a3c7row2_col9\" class=\"data row2 col9\" >                  15k</td>\n",
       "                        <td id=\"T_098b9876_876d_11ed_b2ec_5254ac14a3c7row2_col10\" class=\"data row2 col10\" >                  20k</td>\n",
       "            </tr>\n",
       "            <tr>\n",
       "                                <td id=\"T_098b9876_876d_11ed_b2ec_5254ac14a3c7row3_col0\" class=\"data row3 col0\" >2023校招-CRM 数据分析实习生</td>\n",
       "                        <td id=\"T_098b9876_876d_11ed_b2ec_5254ac14a3c7row3_col1\" class=\"data row3 col1\" >特斯拉 Tesla</td>\n",
       "                        <td id=\"T_098b9876_876d_11ed_b2ec_5254ac14a3c7row3_col2\" class=\"data row3 col2\" >上海·浦东新区·世博</td>\n",
       "                                        <td id=\"T_098b9876_876d_11ed_b2ec_5254ac14a3c7row3_col5\" class=\"data row3 col5\" >在校/应届</td>\n",
       "                        <td id=\"T_098b9876_876d_11ed_b2ec_5254ac14a3c7row3_col6\" class=\"data row3 col6\" >['汽车生产', '已上市', '10000人以上']</td>\n",
       "                        <td id=\"T_098b9876_876d_11ed_b2ec_5254ac14a3c7row3_col7\" class=\"data row3 col7\" >10-15K</td>\n",
       "                        <td id=\"T_098b9876_876d_11ed_b2ec_5254ac14a3c7row3_col8\" class=\"data row3 col8\" >暂无</td>\n",
       "                        <td id=\"T_098b9876_876d_11ed_b2ec_5254ac14a3c7row3_col9\" class=\"data row3 col9\" >                  10k</td>\n",
       "                        <td id=\"T_098b9876_876d_11ed_b2ec_5254ac14a3c7row3_col10\" class=\"data row3 col10\" >                  15k</td>\n",
       "            </tr>\n",
       "            <tr>\n",
       "                                <td id=\"T_098b9876_876d_11ed_b2ec_5254ac14a3c7row4_col0\" class=\"data row4 col0\" >2023校招-产品战略-数据智能方向</td>\n",
       "                        <td id=\"T_098b9876_876d_11ed_b2ec_5254ac14a3c7row4_col1\" class=\"data row4 col1\" >garena</td>\n",
       "                        <td id=\"T_098b9876_876d_11ed_b2ec_5254ac14a3c7row4_col2\" class=\"data row4 col2\" >上海·徐汇区·漕河泾</td>\n",
       "                                        <td id=\"T_098b9876_876d_11ed_b2ec_5254ac14a3c7row4_col5\" class=\"data row4 col5\" >在校/应届</td>\n",
       "                        <td id=\"T_098b9876_876d_11ed_b2ec_5254ac14a3c7row4_col6\" class=\"data row4 col6\" >['互联网', '已上市', '1000-9999人']</td>\n",
       "                        <td id=\"T_098b9876_876d_11ed_b2ec_5254ac14a3c7row4_col7\" class=\"data row4 col7\" >12-20K</td>\n",
       "                        <td id=\"T_098b9876_876d_11ed_b2ec_5254ac14a3c7row4_col8\" class=\"data row4 col8\" >暂无</td>\n",
       "                        <td id=\"T_098b9876_876d_11ed_b2ec_5254ac14a3c7row4_col9\" class=\"data row4 col9\" >                  12k</td>\n",
       "                        <td id=\"T_098b9876_876d_11ed_b2ec_5254ac14a3c7row4_col10\" class=\"data row4 col10\" >                  20k</td>\n",
       "            </tr>\n",
       "            <tr>\n",
       "                                <td id=\"T_098b9876_876d_11ed_b2ec_5254ac14a3c7row5_col0\" class=\"data row5 col0\" >23届秋招-大数据开发工程师(J11862)</td>\n",
       "                        <td id=\"T_098b9876_876d_11ed_b2ec_5254ac14a3c7row5_col1\" class=\"data row5 col1\" >合合信息</td>\n",
       "                        <td id=\"T_098b9876_876d_11ed_b2ec_5254ac14a3c7row5_col2\" class=\"data row5 col2\" >上海·静安区·彭浦镇</td>\n",
       "                                        <td id=\"T_098b9876_876d_11ed_b2ec_5254ac14a3c7row5_col5\" class=\"data row5 col5\" >在校/应届</td>\n",
       "                        <td id=\"T_098b9876_876d_11ed_b2ec_5254ac14a3c7row5_col6\" class=\"data row5 col6\" >['互联网', 'D轮及以上', '1000-9999人']</td>\n",
       "                        <td id=\"T_098b9876_876d_11ed_b2ec_5254ac14a3c7row5_col7\" class=\"data row5 col7\" >15-22K</td>\n",
       "                        <td id=\"T_098b9876_876d_11ed_b2ec_5254ac14a3c7row5_col8\" class=\"data row5 col8\" >13薪</td>\n",
       "                        <td id=\"T_098b9876_876d_11ed_b2ec_5254ac14a3c7row5_col9\" class=\"data row5 col9\" >                  15k</td>\n",
       "                        <td id=\"T_098b9876_876d_11ed_b2ec_5254ac14a3c7row5_col10\" class=\"data row5 col10\" >                  22k</td>\n",
       "            </tr>\n",
       "            <tr>\n",
       "                                <td id=\"T_098b9876_876d_11ed_b2ec_5254ac14a3c7row6_col0\" class=\"data row6 col0\" >AI 数据工程师（应届生）</td>\n",
       "                        <td id=\"T_098b9876_876d_11ed_b2ec_5254ac14a3c7row6_col1\" class=\"data row6 col1\" >上海深视科技</td>\n",
       "                        <td id=\"T_098b9876_876d_11ed_b2ec_5254ac14a3c7row6_col2\" class=\"data row6 col2\" >上海·闵行区·吴泾</td>\n",
       "                                        <td id=\"T_098b9876_876d_11ed_b2ec_5254ac14a3c7row6_col5\" class=\"data row6 col5\" >在校/应届</td>\n",
       "                        <td id=\"T_098b9876_876d_11ed_b2ec_5254ac14a3c7row6_col6\" class=\"data row6 col6\" >['智能硬件', 'A轮', '100-499人']</td>\n",
       "                        <td id=\"T_098b9876_876d_11ed_b2ec_5254ac14a3c7row6_col7\" class=\"data row6 col7\" >10-15K</td>\n",
       "                        <td id=\"T_098b9876_876d_11ed_b2ec_5254ac14a3c7row6_col8\" class=\"data row6 col8\" >13薪</td>\n",
       "                        <td id=\"T_098b9876_876d_11ed_b2ec_5254ac14a3c7row6_col9\" class=\"data row6 col9\" >                  10k</td>\n",
       "                        <td id=\"T_098b9876_876d_11ed_b2ec_5254ac14a3c7row6_col10\" class=\"data row6 col10\" >                  15k</td>\n",
       "            </tr>\n",
       "            <tr>\n",
       "                                <td id=\"T_098b9876_876d_11ed_b2ec_5254ac14a3c7row7_col0\" class=\"data row7 col0\" >AI大数据分析师</td>\n",
       "                        <td id=\"T_098b9876_876d_11ed_b2ec_5254ac14a3c7row7_col1\" class=\"data row7 col1\" >晶阳机电</td>\n",
       "                        <td id=\"T_098b9876_876d_11ed_b2ec_5254ac14a3c7row7_col2\" class=\"data row7 col2\" >上海·宝山区·共富</td>\n",
       "                                        <td id=\"T_098b9876_876d_11ed_b2ec_5254ac14a3c7row7_col5\" class=\"data row7 col5\" >经验不限</td>\n",
       "                        <td id=\"T_098b9876_876d_11ed_b2ec_5254ac14a3c7row7_col6\" class=\"data row7 col6\" >['机械设备/机电/重工', 'D轮及以上', '100-499人']</td>\n",
       "                        <td id=\"T_098b9876_876d_11ed_b2ec_5254ac14a3c7row7_col7\" class=\"data row7 col7\" >15-16K</td>\n",
       "                        <td id=\"T_098b9876_876d_11ed_b2ec_5254ac14a3c7row7_col8\" class=\"data row7 col8\" >暂无</td>\n",
       "                        <td id=\"T_098b9876_876d_11ed_b2ec_5254ac14a3c7row7_col9\" class=\"data row7 col9\" >                  15k</td>\n",
       "                        <td id=\"T_098b9876_876d_11ed_b2ec_5254ac14a3c7row7_col10\" class=\"data row7 col10\" >                  16k</td>\n",
       "            </tr>\n",
       "            <tr>\n",
       "                                <td id=\"T_098b9876_876d_11ed_b2ec_5254ac14a3c7row8_col0\" class=\"data row8 col0\" >BA-数据分析（SAP顾问愿意转BA）-甲方</td>\n",
       "                        <td id=\"T_098b9876_876d_11ed_b2ec_5254ac14a3c7row8_col1\" class=\"data row8 col1\" >某知名批发公司</td>\n",
       "                        <td id=\"T_098b9876_876d_11ed_b2ec_5254ac14a3c7row8_col2\" class=\"data row8 col2\" >上海</td>\n",
       "                                        <td id=\"T_098b9876_876d_11ed_b2ec_5254ac14a3c7row8_col5\" class=\"data row8 col5\" >经验不限</td>\n",
       "                        <td id=\"T_098b9876_876d_11ed_b2ec_5254ac14a3c7row8_col6\" class=\"data row8 col6\" >['批发/零售', '不需要融资', '1000-9999人']</td>\n",
       "                        <td id=\"T_098b9876_876d_11ed_b2ec_5254ac14a3c7row8_col7\" class=\"data row8 col7\" >16-30K</td>\n",
       "                        <td id=\"T_098b9876_876d_11ed_b2ec_5254ac14a3c7row8_col8\" class=\"data row8 col8\" >暂无</td>\n",
       "                        <td id=\"T_098b9876_876d_11ed_b2ec_5254ac14a3c7row8_col9\" class=\"data row8 col9\" >                  16k</td>\n",
       "                        <td id=\"T_098b9876_876d_11ed_b2ec_5254ac14a3c7row8_col10\" class=\"data row8 col10\" >                  30k</td>\n",
       "            </tr>\n",
       "            <tr>\n",
       "                                <td id=\"T_098b9876_876d_11ed_b2ec_5254ac14a3c7row9_col0\" class=\"data row9 col0\" >BA需求分析师</td>\n",
       "                        <td id=\"T_098b9876_876d_11ed_b2ec_5254ac14a3c7row9_col1\" class=\"data row9 col1\" >精诚</td>\n",
       "                        <td id=\"T_098b9876_876d_11ed_b2ec_5254ac14a3c7row9_col2\" class=\"data row9 col2\" >上海·徐汇区·徐家汇</td>\n",
       "                                        <td id=\"T_098b9876_876d_11ed_b2ec_5254ac14a3c7row9_col5\" class=\"data row9 col5\" >经验不限</td>\n",
       "                        <td id=\"T_098b9876_876d_11ed_b2ec_5254ac14a3c7row9_col6\" class=\"data row9 col6\" >['企业服务', '不需要融资', '100-499人']</td>\n",
       "                        <td id=\"T_098b9876_876d_11ed_b2ec_5254ac14a3c7row9_col7\" class=\"data row9 col7\" >12-24K</td>\n",
       "                        <td id=\"T_098b9876_876d_11ed_b2ec_5254ac14a3c7row9_col8\" class=\"data row9 col8\" >暂无</td>\n",
       "                        <td id=\"T_098b9876_876d_11ed_b2ec_5254ac14a3c7row9_col9\" class=\"data row9 col9\" >                  12k</td>\n",
       "                        <td id=\"T_098b9876_876d_11ed_b2ec_5254ac14a3c7row9_col10\" class=\"data row9 col10\" >                  24k</td>\n",
       "            </tr>\n",
       "    </tbody></table>"
      ],
      "text/plain": [
       "<pandas.io.formats.style.Styler at 0x7f1851a8ea50>"
      ]
     },
     "metadata": {},
     "output_type": "display_data"
    }
   ],
   "source": []
  },
  {
   "cell_type": "markdown",
   "id": "79b5a37c",
   "metadata": {
    "cell_id": 74
   },
   "source": [
    "### （9）构建透视表\n",
    "\n",
    "需求：找到薪资区间在10-15k的上海各个区的岗位分布，对最大值进行高亮，颜色为`#b1e6e3`"
   ]
  },
  {
   "cell_type": "code",
   "execution_count": 127,
   "id": "bd575825",
   "metadata": {
    "cell_id": 72
   },
   "outputs": [
    {
     "data": {
      "text/html": [
       "<style  type=\"text/css\" >\n",
       "#T_f4a01310_8771_11ed_b2ec_5254ac14a3c7row4_col4{\n",
       "            background-color:  #b1e6e3;\n",
       "        }</style><table id=\"T_f4a01310_8771_11ed_b2ec_5254ac14a3c7\" ><thead>    <tr>        <th class=\"index_name level0\" >区</th>        <th class=\"col_heading level0 col0\" >奉贤区</th>        <th class=\"col_heading level0 col1\" >徐汇区</th>        <th class=\"col_heading level0 col2\" >杨浦区</th>        <th class=\"col_heading level0 col3\" >松江区</th>        <th class=\"col_heading level0 col4\" >浦东新区</th>        <th class=\"col_heading level0 col5\" >虹口区</th>        <th class=\"col_heading level0 col6\" >长宁区</th>        <th class=\"col_heading level0 col7\" >闵行区</th>        <th class=\"col_heading level0 col8\" >青浦区</th>        <th class=\"col_heading level0 col9\" >静安区</th>        <th class=\"col_heading level0 col10\" >黄浦区</th>    </tr>    <tr>        <th class=\"index_name level0\" >区间</th>        <th class=\"blank\" ></th>        <th class=\"blank\" ></th>        <th class=\"blank\" ></th>        <th class=\"blank\" ></th>        <th class=\"blank\" ></th>        <th class=\"blank\" ></th>        <th class=\"blank\" ></th>        <th class=\"blank\" ></th>        <th class=\"blank\" ></th>        <th class=\"blank\" ></th>        <th class=\"blank\" ></th>    </tr></thead><tbody>\n",
       "                <tr>\n",
       "                        <th id=\"T_f4a01310_8771_11ed_b2ec_5254ac14a3c7level0_row0\" class=\"row_heading level0 row0\" >10-11K</th>\n",
       "                        <td id=\"T_f4a01310_8771_11ed_b2ec_5254ac14a3c7row0_col0\" class=\"data row0 col0\" >0</td>\n",
       "                        <td id=\"T_f4a01310_8771_11ed_b2ec_5254ac14a3c7row0_col1\" class=\"data row0 col1\" >0</td>\n",
       "                        <td id=\"T_f4a01310_8771_11ed_b2ec_5254ac14a3c7row0_col2\" class=\"data row0 col2\" >1</td>\n",
       "                        <td id=\"T_f4a01310_8771_11ed_b2ec_5254ac14a3c7row0_col3\" class=\"data row0 col3\" >0</td>\n",
       "                        <td id=\"T_f4a01310_8771_11ed_b2ec_5254ac14a3c7row0_col4\" class=\"data row0 col4\" >1</td>\n",
       "                        <td id=\"T_f4a01310_8771_11ed_b2ec_5254ac14a3c7row0_col5\" class=\"data row0 col5\" >0</td>\n",
       "                        <td id=\"T_f4a01310_8771_11ed_b2ec_5254ac14a3c7row0_col6\" class=\"data row0 col6\" >0</td>\n",
       "                        <td id=\"T_f4a01310_8771_11ed_b2ec_5254ac14a3c7row0_col7\" class=\"data row0 col7\" >0</td>\n",
       "                        <td id=\"T_f4a01310_8771_11ed_b2ec_5254ac14a3c7row0_col8\" class=\"data row0 col8\" >0</td>\n",
       "                        <td id=\"T_f4a01310_8771_11ed_b2ec_5254ac14a3c7row0_col9\" class=\"data row0 col9\" >0</td>\n",
       "                        <td id=\"T_f4a01310_8771_11ed_b2ec_5254ac14a3c7row0_col10\" class=\"data row0 col10\" >0</td>\n",
       "            </tr>\n",
       "            <tr>\n",
       "                        <th id=\"T_f4a01310_8771_11ed_b2ec_5254ac14a3c7level0_row1\" class=\"row_heading level0 row1\" >10-12K</th>\n",
       "                        <td id=\"T_f4a01310_8771_11ed_b2ec_5254ac14a3c7row1_col0\" class=\"data row1 col0\" >0</td>\n",
       "                        <td id=\"T_f4a01310_8771_11ed_b2ec_5254ac14a3c7row1_col1\" class=\"data row1 col1\" >0</td>\n",
       "                        <td id=\"T_f4a01310_8771_11ed_b2ec_5254ac14a3c7row1_col2\" class=\"data row1 col2\" >0</td>\n",
       "                        <td id=\"T_f4a01310_8771_11ed_b2ec_5254ac14a3c7row1_col3\" class=\"data row1 col3\" >0</td>\n",
       "                        <td id=\"T_f4a01310_8771_11ed_b2ec_5254ac14a3c7row1_col4\" class=\"data row1 col4\" >0</td>\n",
       "                        <td id=\"T_f4a01310_8771_11ed_b2ec_5254ac14a3c7row1_col5\" class=\"data row1 col5\" >0</td>\n",
       "                        <td id=\"T_f4a01310_8771_11ed_b2ec_5254ac14a3c7row1_col6\" class=\"data row1 col6\" >0</td>\n",
       "                        <td id=\"T_f4a01310_8771_11ed_b2ec_5254ac14a3c7row1_col7\" class=\"data row1 col7\" >0</td>\n",
       "                        <td id=\"T_f4a01310_8771_11ed_b2ec_5254ac14a3c7row1_col8\" class=\"data row1 col8\" >0</td>\n",
       "                        <td id=\"T_f4a01310_8771_11ed_b2ec_5254ac14a3c7row1_col9\" class=\"data row1 col9\" >0</td>\n",
       "                        <td id=\"T_f4a01310_8771_11ed_b2ec_5254ac14a3c7row1_col10\" class=\"data row1 col10\" >2</td>\n",
       "            </tr>\n",
       "            <tr>\n",
       "                        <th id=\"T_f4a01310_8771_11ed_b2ec_5254ac14a3c7level0_row2\" class=\"row_heading level0 row2\" >10-13K</th>\n",
       "                        <td id=\"T_f4a01310_8771_11ed_b2ec_5254ac14a3c7row2_col0\" class=\"data row2 col0\" >0</td>\n",
       "                        <td id=\"T_f4a01310_8771_11ed_b2ec_5254ac14a3c7row2_col1\" class=\"data row2 col1\" >0</td>\n",
       "                        <td id=\"T_f4a01310_8771_11ed_b2ec_5254ac14a3c7row2_col2\" class=\"data row2 col2\" >0</td>\n",
       "                        <td id=\"T_f4a01310_8771_11ed_b2ec_5254ac14a3c7row2_col3\" class=\"data row2 col3\" >0</td>\n",
       "                        <td id=\"T_f4a01310_8771_11ed_b2ec_5254ac14a3c7row2_col4\" class=\"data row2 col4\" >0</td>\n",
       "                        <td id=\"T_f4a01310_8771_11ed_b2ec_5254ac14a3c7row2_col5\" class=\"data row2 col5\" >0</td>\n",
       "                        <td id=\"T_f4a01310_8771_11ed_b2ec_5254ac14a3c7row2_col6\" class=\"data row2 col6\" >0</td>\n",
       "                        <td id=\"T_f4a01310_8771_11ed_b2ec_5254ac14a3c7row2_col7\" class=\"data row2 col7\" >1</td>\n",
       "                        <td id=\"T_f4a01310_8771_11ed_b2ec_5254ac14a3c7row2_col8\" class=\"data row2 col8\" >0</td>\n",
       "                        <td id=\"T_f4a01310_8771_11ed_b2ec_5254ac14a3c7row2_col9\" class=\"data row2 col9\" >0</td>\n",
       "                        <td id=\"T_f4a01310_8771_11ed_b2ec_5254ac14a3c7row2_col10\" class=\"data row2 col10\" >0</td>\n",
       "            </tr>\n",
       "            <tr>\n",
       "                        <th id=\"T_f4a01310_8771_11ed_b2ec_5254ac14a3c7level0_row3\" class=\"row_heading level0 row3\" >10-14K</th>\n",
       "                        <td id=\"T_f4a01310_8771_11ed_b2ec_5254ac14a3c7row3_col0\" class=\"data row3 col0\" >0</td>\n",
       "                        <td id=\"T_f4a01310_8771_11ed_b2ec_5254ac14a3c7row3_col1\" class=\"data row3 col1\" >0</td>\n",
       "                        <td id=\"T_f4a01310_8771_11ed_b2ec_5254ac14a3c7row3_col2\" class=\"data row3 col2\" >0</td>\n",
       "                        <td id=\"T_f4a01310_8771_11ed_b2ec_5254ac14a3c7row3_col3\" class=\"data row3 col3\" >0</td>\n",
       "                        <td id=\"T_f4a01310_8771_11ed_b2ec_5254ac14a3c7row3_col4\" class=\"data row3 col4\" >0</td>\n",
       "                        <td id=\"T_f4a01310_8771_11ed_b2ec_5254ac14a3c7row3_col5\" class=\"data row3 col5\" >0</td>\n",
       "                        <td id=\"T_f4a01310_8771_11ed_b2ec_5254ac14a3c7row3_col6\" class=\"data row3 col6\" >1</td>\n",
       "                        <td id=\"T_f4a01310_8771_11ed_b2ec_5254ac14a3c7row3_col7\" class=\"data row3 col7\" >0</td>\n",
       "                        <td id=\"T_f4a01310_8771_11ed_b2ec_5254ac14a3c7row3_col8\" class=\"data row3 col8\" >0</td>\n",
       "                        <td id=\"T_f4a01310_8771_11ed_b2ec_5254ac14a3c7row3_col9\" class=\"data row3 col9\" >0</td>\n",
       "                        <td id=\"T_f4a01310_8771_11ed_b2ec_5254ac14a3c7row3_col10\" class=\"data row3 col10\" >0</td>\n",
       "            </tr>\n",
       "            <tr>\n",
       "                        <th id=\"T_f4a01310_8771_11ed_b2ec_5254ac14a3c7level0_row4\" class=\"row_heading level0 row4\" >10-15K</th>\n",
       "                        <td id=\"T_f4a01310_8771_11ed_b2ec_5254ac14a3c7row4_col0\" class=\"data row4 col0\" >1</td>\n",
       "                        <td id=\"T_f4a01310_8771_11ed_b2ec_5254ac14a3c7row4_col1\" class=\"data row4 col1\" >5</td>\n",
       "                        <td id=\"T_f4a01310_8771_11ed_b2ec_5254ac14a3c7row4_col2\" class=\"data row4 col2\" >3</td>\n",
       "                        <td id=\"T_f4a01310_8771_11ed_b2ec_5254ac14a3c7row4_col3\" class=\"data row4 col3\" >2</td>\n",
       "                        <td id=\"T_f4a01310_8771_11ed_b2ec_5254ac14a3c7row4_col4\" class=\"data row4 col4\" >9</td>\n",
       "                        <td id=\"T_f4a01310_8771_11ed_b2ec_5254ac14a3c7row4_col5\" class=\"data row4 col5\" >1</td>\n",
       "                        <td id=\"T_f4a01310_8771_11ed_b2ec_5254ac14a3c7row4_col6\" class=\"data row4 col6\" >1</td>\n",
       "                        <td id=\"T_f4a01310_8771_11ed_b2ec_5254ac14a3c7row4_col7\" class=\"data row4 col7\" >2</td>\n",
       "                        <td id=\"T_f4a01310_8771_11ed_b2ec_5254ac14a3c7row4_col8\" class=\"data row4 col8\" >2</td>\n",
       "                        <td id=\"T_f4a01310_8771_11ed_b2ec_5254ac14a3c7row4_col9\" class=\"data row4 col9\" >2</td>\n",
       "                        <td id=\"T_f4a01310_8771_11ed_b2ec_5254ac14a3c7row4_col10\" class=\"data row4 col10\" >2</td>\n",
       "            </tr>\n",
       "            <tr>\n",
       "                        <th id=\"T_f4a01310_8771_11ed_b2ec_5254ac14a3c7level0_row5\" class=\"row_heading level0 row5\" >11-15K</th>\n",
       "                        <td id=\"T_f4a01310_8771_11ed_b2ec_5254ac14a3c7row5_col0\" class=\"data row5 col0\" >0</td>\n",
       "                        <td id=\"T_f4a01310_8771_11ed_b2ec_5254ac14a3c7row5_col1\" class=\"data row5 col1\" >0</td>\n",
       "                        <td id=\"T_f4a01310_8771_11ed_b2ec_5254ac14a3c7row5_col2\" class=\"data row5 col2\" >0</td>\n",
       "                        <td id=\"T_f4a01310_8771_11ed_b2ec_5254ac14a3c7row5_col3\" class=\"data row5 col3\" >0</td>\n",
       "                        <td id=\"T_f4a01310_8771_11ed_b2ec_5254ac14a3c7row5_col4\" class=\"data row5 col4\" >0</td>\n",
       "                        <td id=\"T_f4a01310_8771_11ed_b2ec_5254ac14a3c7row5_col5\" class=\"data row5 col5\" >0</td>\n",
       "                        <td id=\"T_f4a01310_8771_11ed_b2ec_5254ac14a3c7row5_col6\" class=\"data row5 col6\" >0</td>\n",
       "                        <td id=\"T_f4a01310_8771_11ed_b2ec_5254ac14a3c7row5_col7\" class=\"data row5 col7\" >1</td>\n",
       "                        <td id=\"T_f4a01310_8771_11ed_b2ec_5254ac14a3c7row5_col8\" class=\"data row5 col8\" >0</td>\n",
       "                        <td id=\"T_f4a01310_8771_11ed_b2ec_5254ac14a3c7row5_col9\" class=\"data row5 col9\" >0</td>\n",
       "                        <td id=\"T_f4a01310_8771_11ed_b2ec_5254ac14a3c7row5_col10\" class=\"data row5 col10\" >0</td>\n",
       "            </tr>\n",
       "            <tr>\n",
       "                        <th id=\"T_f4a01310_8771_11ed_b2ec_5254ac14a3c7level0_row6\" class=\"row_heading level0 row6\" >12-14K</th>\n",
       "                        <td id=\"T_f4a01310_8771_11ed_b2ec_5254ac14a3c7row6_col0\" class=\"data row6 col0\" >0</td>\n",
       "                        <td id=\"T_f4a01310_8771_11ed_b2ec_5254ac14a3c7row6_col1\" class=\"data row6 col1\" >0</td>\n",
       "                        <td id=\"T_f4a01310_8771_11ed_b2ec_5254ac14a3c7row6_col2\" class=\"data row6 col2\" >0</td>\n",
       "                        <td id=\"T_f4a01310_8771_11ed_b2ec_5254ac14a3c7row6_col3\" class=\"data row6 col3\" >0</td>\n",
       "                        <td id=\"T_f4a01310_8771_11ed_b2ec_5254ac14a3c7row6_col4\" class=\"data row6 col4\" >1</td>\n",
       "                        <td id=\"T_f4a01310_8771_11ed_b2ec_5254ac14a3c7row6_col5\" class=\"data row6 col5\" >0</td>\n",
       "                        <td id=\"T_f4a01310_8771_11ed_b2ec_5254ac14a3c7row6_col6\" class=\"data row6 col6\" >0</td>\n",
       "                        <td id=\"T_f4a01310_8771_11ed_b2ec_5254ac14a3c7row6_col7\" class=\"data row6 col7\" >0</td>\n",
       "                        <td id=\"T_f4a01310_8771_11ed_b2ec_5254ac14a3c7row6_col8\" class=\"data row6 col8\" >0</td>\n",
       "                        <td id=\"T_f4a01310_8771_11ed_b2ec_5254ac14a3c7row6_col9\" class=\"data row6 col9\" >0</td>\n",
       "                        <td id=\"T_f4a01310_8771_11ed_b2ec_5254ac14a3c7row6_col10\" class=\"data row6 col10\" >0</td>\n",
       "            </tr>\n",
       "            <tr>\n",
       "                        <th id=\"T_f4a01310_8771_11ed_b2ec_5254ac14a3c7level0_row7\" class=\"row_heading level0 row7\" >12-15K</th>\n",
       "                        <td id=\"T_f4a01310_8771_11ed_b2ec_5254ac14a3c7row7_col0\" class=\"data row7 col0\" >1</td>\n",
       "                        <td id=\"T_f4a01310_8771_11ed_b2ec_5254ac14a3c7row7_col1\" class=\"data row7 col1\" >1</td>\n",
       "                        <td id=\"T_f4a01310_8771_11ed_b2ec_5254ac14a3c7row7_col2\" class=\"data row7 col2\" >0</td>\n",
       "                        <td id=\"T_f4a01310_8771_11ed_b2ec_5254ac14a3c7row7_col3\" class=\"data row7 col3\" >0</td>\n",
       "                        <td id=\"T_f4a01310_8771_11ed_b2ec_5254ac14a3c7row7_col4\" class=\"data row7 col4\" >0</td>\n",
       "                        <td id=\"T_f4a01310_8771_11ed_b2ec_5254ac14a3c7row7_col5\" class=\"data row7 col5\" >0</td>\n",
       "                        <td id=\"T_f4a01310_8771_11ed_b2ec_5254ac14a3c7row7_col6\" class=\"data row7 col6\" >0</td>\n",
       "                        <td id=\"T_f4a01310_8771_11ed_b2ec_5254ac14a3c7row7_col7\" class=\"data row7 col7\" >0</td>\n",
       "                        <td id=\"T_f4a01310_8771_11ed_b2ec_5254ac14a3c7row7_col8\" class=\"data row7 col8\" >0</td>\n",
       "                        <td id=\"T_f4a01310_8771_11ed_b2ec_5254ac14a3c7row7_col9\" class=\"data row7 col9\" >0</td>\n",
       "                        <td id=\"T_f4a01310_8771_11ed_b2ec_5254ac14a3c7row7_col10\" class=\"data row7 col10\" >1</td>\n",
       "            </tr>\n",
       "    </tbody></table>"
      ],
      "text/plain": [
       "<pandas.io.formats.style.Styler at 0x7f16ab658890>"
      ]
     },
     "execution_count": 127,
     "metadata": {},
     "output_type": "execute_result"
    }
   ],
   "source": []
  },
  {
   "cell_type": "markdown",
   "id": "2c8b749b",
   "metadata": {
    "cell_id": 83
   },
   "source": [
    "### （10）使用Plotly作图\n",
    "\n",
    "TOP10行业的岗位数量分布饼图"
   ]
  },
  {
   "cell_type": "markdown",
   "id": "306b81c4",
   "metadata": {
    "cell_id": 91
   },
   "source": [
    "![](https://github.com/datoujinggzj/WhaleDataScienceProject/blob/master/pic/pie_plot.png?raw=true)"
   ]
  }
 ],
 "metadata": {
  "kernelspec": {
   "display_name": "Python 3",
   "language": "python",
   "name": "python3"
  },
  "language_info": {
   "codemirror_mode": {
    "name": "ipython",
    "version": 3
   },
   "file_extension": ".py",
   "mimetype": "text/x-python",
   "name": "python",
   "nbconvert_exporter": "python",
   "pygments_lexer": "ipython3",
   "version": "3.7.12"
  },
  "max_cell_id": 94,
  "serving": {
   "http": {
    "cache": {
     "period": 60
    },
    "enable": false,
    "mode": "cache"
   },
   "timer": {
    "enable": false
   }
  },
  "toc": {
   "base_numbering": 1,
   "nav_menu": {},
   "number_sections": true,
   "sideBar": true,
   "skip_h1_title": false,
   "title_cell": "Table of Contents",
   "title_sidebar": "Contents",
   "toc_cell": false,
   "toc_position": {
    "height": "calc(100% - 180px)",
    "left": "10px",
    "top": "150px",
    "width": "292.679px"
   },
   "toc_section_display": true,
   "toc_window_display": true
  }
 },
 "nbformat": 4,
 "nbformat_minor": 5
}
